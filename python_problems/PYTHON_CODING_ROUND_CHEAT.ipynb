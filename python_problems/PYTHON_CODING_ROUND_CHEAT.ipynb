{
 "cells": [
  {
   "cell_type": "markdown",
   "id": "fb84bf89",
   "metadata": {},
   "source": [
    "### write a program to find out the cumsum of a given list"
   ]
  },
  {
   "cell_type": "code",
   "execution_count": 12,
   "id": "f36ea869",
   "metadata": {},
   "outputs": [
    {
     "name": "stdout",
     "output_type": "stream",
     "text": [
      "[0, 1, 2, 3, 4, 5, 6, 7, 8, 9, 10, 11, 12, 13, 14, 15, 16, 17, 18, 19] \n",
      "\n",
      "cumlative sum :- [0, 1, 3, 6, 10, 15, 21, 28, 36, 45, 55, 66, 78, 91, 105, 120, 136, 153, 171, 190] \n"
     ]
    }
   ],
   "source": [
    "ls = list(range(20))\n",
    "def cumsum(ls):\n",
    "    temp_cumsum = []\n",
    "    for inde ,item in enumerate(ls):\n",
    "        if inde == 0:\n",
    "            temp_cumsum.append(item)\n",
    "        else:\n",
    "            temp_cumsum.append(sum(ls[0:inde+1]))\n",
    "    return temp_cumsum\n",
    "    \n",
    "print(ls,'\\n')\n",
    "print(f\"cumlative sum :- {cumsum(ls)} \")"
   ]
  },
  {
   "cell_type": "code",
   "execution_count": null,
   "id": "64d30159",
   "metadata": {},
   "outputs": [],
   "source": []
  },
  {
   "cell_type": "code",
   "execution_count": null,
   "id": "1756f762",
   "metadata": {},
   "outputs": [],
   "source": []
  }
 ],
 "metadata": {
  "kernelspec": {
   "display_name": "Python 3 (ipykernel)",
   "language": "python",
   "name": "python3"
  },
  "language_info": {
   "codemirror_mode": {
    "name": "ipython",
    "version": 3
   },
   "file_extension": ".py",
   "mimetype": "text/x-python",
   "name": "python",
   "nbconvert_exporter": "python",
   "pygments_lexer": "ipython3",
   "version": "3.10.6"
  }
 },
 "nbformat": 4,
 "nbformat_minor": 5
}
